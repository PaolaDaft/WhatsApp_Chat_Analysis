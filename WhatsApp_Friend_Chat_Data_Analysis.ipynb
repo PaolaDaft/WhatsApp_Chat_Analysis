{
 "cells": [
  {
   "cell_type": "code",
   "execution_count": 7,
   "metadata": {},
   "outputs": [],
   "source": [
    "import pandas as pd\n",
    "import numpy as np\n",
    "import datetime as dt\n",
    "import matplotlib.pyplot as plt\n",
    "import plotly.express as px\n",
    "\n",
    "import re\n",
    "import regex\n",
    "import emoji\n",
    "from collections import Counter\n",
    "from wordcloud import WordCloud, STOPWORDS"
   ]
  },
  {
   "cell_type": "markdown",
   "metadata": {},
   "source": [
    "# De txt a tabla"
   ]
  },
  {
   "cell_type": "markdown",
   "metadata": {},
   "source": [
    "## Funciones"
   ]
  },
  {
   "cell_type": "code",
   "execution_count": 8,
   "metadata": {},
   "outputs": [],
   "source": [
    "def IniciaConFechaYHora(s):\n",
    "    # Ejemplo: '2/10/2018, 9:38 p. m. - ... '\n",
    "    patron = '^([1-9]|1[0-9]|2[0-9]|3[0-1])(\\/)([1-9]|1[0-2])(\\/)(2[0-9][0-9][0-9]), ([0-9]|0[0-9]|1[0-2]):([0-9][0-9])\\u202f(p.\\u202fm.|a.\\u202fm.) -'\n",
    "    resultado = re.match(patron, s)  # Verificar si cada línea del txt hace match con el patrón de fecha y hora\n",
    "    if resultado:\n",
    "        return True\n",
    "    return False"
   ]
  },
  {
   "cell_type": "code",
   "execution_count": 9,
   "metadata": {},
   "outputs": [],
   "source": [
    "# Patron para encontrar a los miembros del grupo dentro del txt\n",
    "def EncontrarMiembro(s):\n",
    "    patrones = [\n",
    "        '([\\w]+):',                                    # Nombre\n",
    "        '([\\w]+[\\s]+[\\(]+[\\w]+[\\)]+):',      # Nombre (Apodo)\n",
    "        '([\\w]+[\\s]+[\\w]+):',                    # Nombre + Apellido\n",
    "        '([\\w]+[\\s]+[\\w]+[\\s]+[\\w]+):',    # Nombre 1 + Nombre 2 + Apellido\n",
    "        '([+]\\d{2} \\d{3} \\d{3} \\d{4}):',     # Número de teléfono (MX)\n",
    "        '([\\w]+)[\\u263a-\\U0001f999]+:', # Nombre + Emoji            \n",
    "    ]\n",
    "    patron = '^' + '|'.join(patrones)     \n",
    "    resultado = re.match(patron, s)  # Verificar si cada línea del txt hace match con el patrón de miembro\n",
    "    if resultado:\n",
    "        return True\n",
    "    return False"
   ]
  },
  {
   "cell_type": "code",
   "execution_count": 10,
   "metadata": {},
   "outputs": [],
   "source": [
    "# Separar las partes de cada línea del txt: Fecha, Hora, Miembro y Mensaje\n",
    "def ObtenerPartes(linea):   \n",
    "    # Ejemplo: '21/2/2021 11:27 a. m. - Sandro: Todos debemos aprender a analizar datos'\n",
    "    splitLinea = linea.split(' - ') \n",
    "    FechaHora = splitLinea[0]                     # '21/2/2021 11:27 a. m.'\n",
    "    splitFechaHora = FechaHora.split(' ')   \n",
    "    Fecha = splitFechaHora[0]                    # '21/2/2021'\n",
    "    Hora = ' '.join(splitFechaHora[1:])          # '11:27 a. m.'\n",
    "    Mensaje = ' '.join(splitLinea[1:])             # 'Sandro: Todos debemos aprender a analizar datos'\n",
    "    if EncontrarMiembro(Mensaje): \n",
    "        splitMensaje = Mensaje.split(': ')      \n",
    "        Miembro = splitMensaje[0]               # 'Sandro' \n",
    "        Mensaje = ' '.join(splitMensaje[1:])    # 'Todos debemos aprender a analizar datos'\n",
    "    else:\n",
    "        Miembro = None\n",
    "    return Fecha, Hora, Miembro, Mensaje"
   ]
  },
  {
   "cell_type": "markdown",
   "metadata": {},
   "source": [
    "### Unit test"
   ]
  },
  {
   "cell_type": "code",
   "execution_count": 3,
   "metadata": {},
   "outputs": [
    {
     "name": "stderr",
     "output_type": "stream",
     "text": [
      ".\n",
      "----------------------------------------------------------------------\n",
      "Ran 1 test in 0.002s\n",
      "\n",
      "OK\n"
     ]
    },
    {
     "data": {
      "text/plain": [
       "<unittest.runner.TextTestResult run=1 errors=0 failures=0>"
      ]
     },
     "execution_count": 3,
     "metadata": {},
     "output_type": "execute_result"
    }
   ],
   "source": [
    "\n",
    "import unittest\n",
    "\n",
    "class TestIniciaConFechaYHora(unittest.TestCase):\n",
    "    def test_IniciaConFechaYHora(self):\n",
    "        self.assertTrue(IniciaConFechaYHora(\"24/10/2018, 10:36 p. m. - Paola Daft: 😹😹😹\"))\n",
    "        self.assertFalse(IniciaConFechaYHora(\"Esto no comienza con una fecha y hora\"))\n",
    "        self.assertTrue(IniciaConFechaYHora(\"1/1/2000, 12:00 a. m. - Usuario: mensaje\"))\n",
    "        self.assertFalse(IniciaConFechaYHora(\"24/10/2018 - Paola Daft: 😹😹😹\"))  # Falta la hora\n",
    "        self.assertFalse(IniciaConFechaYHora(\"10:36 p. m. - Paola Daft: 😹😹😹\"))  # Falta la fecha\n",
    "\n",
    "suite = unittest.TestLoader().loadTestsFromTestCase(TestIniciaConFechaYHora)\n",
    "unittest.TextTestRunner().run(suite)"
   ]
  },
  {
   "cell_type": "markdown",
   "metadata": {},
   "source": [
    "## Obtención de las partes del chat"
   ]
  },
  {
   "cell_type": "code",
   "execution_count": 16,
   "metadata": {},
   "outputs": [
    {
     "data": {
      "text/html": [
       "<div>\n",
       "<style scoped>\n",
       "    .dataframe tbody tr th:only-of-type {\n",
       "        vertical-align: middle;\n",
       "    }\n",
       "\n",
       "    .dataframe tbody tr th {\n",
       "        vertical-align: top;\n",
       "    }\n",
       "\n",
       "    .dataframe thead th {\n",
       "        text-align: right;\n",
       "    }\n",
       "</style>\n",
       "<table border=\"1\" class=\"dataframe\">\n",
       "  <thead>\n",
       "    <tr style=\"text-align: right;\">\n",
       "      <th></th>\n",
       "      <th>Fecha</th>\n",
       "      <th>Hora</th>\n",
       "      <th>Miembro</th>\n",
       "      <th>Mensaje</th>\n",
       "    </tr>\n",
       "  </thead>\n",
       "  <tbody>\n",
       "    <tr>\n",
       "      <th>0</th>\n",
       "      <td>2018-10-02</td>\n",
       "      <td>9:38 p. m.</td>\n",
       "      <td>Paola Daft</td>\n",
       "      <td>Uffff when sales temprano y no tienes tarea :'v</td>\n",
       "    </tr>\n",
       "    <tr>\n",
       "      <th>1</th>\n",
       "      <td>2018-10-02</td>\n",
       "      <td>9:39 p. m.</td>\n",
       "      <td>Carlitos</td>\n",
       "      <td>¿Quien dice que no tengo tarea?</td>\n",
       "    </tr>\n",
       "    <tr>\n",
       "      <th>2</th>\n",
       "      <td>2018-10-02</td>\n",
       "      <td>9:40 p. m.</td>\n",
       "      <td>Paola Daft</td>\n",
       "      <td>😹😹😹</td>\n",
       "    </tr>\n",
       "    <tr>\n",
       "      <th>3</th>\n",
       "      <td>2018-10-02</td>\n",
       "      <td>9:40 p. m.</td>\n",
       "      <td>Carlitos</td>\n",
       "      <td>Tengo un putero pero siempre hay que despejars...</td>\n",
       "    </tr>\n",
       "    <tr>\n",
       "      <th>4</th>\n",
       "      <td>2018-10-02</td>\n",
       "      <td>9:40 p. m.</td>\n",
       "      <td>Paola Daft</td>\n",
       "      <td>When salea temprano y te vale la tarea XD</td>\n",
       "    </tr>\n",
       "    <tr>\n",
       "      <th>...</th>\n",
       "      <td>...</td>\n",
       "      <td>...</td>\n",
       "      <td>...</td>\n",
       "      <td>...</td>\n",
       "    </tr>\n",
       "    <tr>\n",
       "      <th>7148</th>\n",
       "      <td>2024-02-12</td>\n",
       "      <td>7:12 p. m.</td>\n",
       "      <td>Paola Daft</td>\n",
       "      <td>&lt;Multimedia omitido&gt;</td>\n",
       "    </tr>\n",
       "    <tr>\n",
       "      <th>7149</th>\n",
       "      <td>2024-02-12</td>\n",
       "      <td>7:12 p. m.</td>\n",
       "      <td>Paola Daft</td>\n",
       "      <td>&lt;Multimedia omitido&gt;</td>\n",
       "    </tr>\n",
       "    <tr>\n",
       "      <th>7150</th>\n",
       "      <td>2024-02-12</td>\n",
       "      <td>7:12 p. m.</td>\n",
       "      <td>Paola Daft</td>\n",
       "      <td>&lt;Multimedia omitido&gt;</td>\n",
       "    </tr>\n",
       "    <tr>\n",
       "      <th>7151</th>\n",
       "      <td>2024-02-12</td>\n",
       "      <td>7:12 p. m.</td>\n",
       "      <td>Paola Daft</td>\n",
       "      <td>&lt;Multimedia omitido&gt;</td>\n",
       "    </tr>\n",
       "    <tr>\n",
       "      <th>7152</th>\n",
       "      <td>2024-02-12</td>\n",
       "      <td>7:12 p. m.</td>\n",
       "      <td>Paola Daft</td>\n",
       "      <td>&lt;Multimedia omitido&gt;</td>\n",
       "    </tr>\n",
       "  </tbody>\n",
       "</table>\n",
       "<p>7153 rows × 4 columns</p>\n",
       "</div>"
      ],
      "text/plain": [
       "          Fecha        Hora     Miembro  \\\n",
       "0    2018-10-02  9:38 p. m.  Paola Daft   \n",
       "1    2018-10-02  9:39 p. m.    Carlitos   \n",
       "2    2018-10-02  9:40 p. m.  Paola Daft   \n",
       "3    2018-10-02  9:40 p. m.    Carlitos   \n",
       "4    2018-10-02  9:40 p. m.  Paola Daft   \n",
       "...         ...         ...         ...   \n",
       "7148 2024-02-12  7:12 p. m.  Paola Daft   \n",
       "7149 2024-02-12  7:12 p. m.  Paola Daft   \n",
       "7150 2024-02-12  7:12 p. m.  Paola Daft   \n",
       "7151 2024-02-12  7:12 p. m.  Paola Daft   \n",
       "7152 2024-02-12  7:12 p. m.  Paola Daft   \n",
       "\n",
       "                                                Mensaje  \n",
       "0       Uffff when sales temprano y no tienes tarea :'v  \n",
       "1                       ¿Quien dice que no tengo tarea?  \n",
       "2                                                   😹😹😹  \n",
       "3     Tengo un putero pero siempre hay que despejars...  \n",
       "4             When salea temprano y te vale la tarea XD  \n",
       "...                                                 ...  \n",
       "7148                               <Multimedia omitido>  \n",
       "7149                               <Multimedia omitido>  \n",
       "7150                               <Multimedia omitido>  \n",
       "7151                               <Multimedia omitido>  \n",
       "7152                               <Multimedia omitido>  \n",
       "\n",
       "[7153 rows x 4 columns]"
      ]
     },
     "execution_count": 16,
     "metadata": {},
     "output_type": "execute_result"
    }
   ],
   "source": [
    "# Leer el archivo txt descargado del chat de WhatsApp\n",
    "RutaChat = './data/Chat de WhatsApp con Carlitos.txt'\n",
    "\n",
    "encryption_msg = \"Los mensajes y las llamadas están cifrados de extremo a extremo. Nadie fuera de este chat, ni siquiera WhatsApp, puede leerlos ni escucharlos. Toca para obtener más información.\"\n",
    "\n",
    "\n",
    "# Lista para almacenar los datos (Fecha, Hora, Miembro, Mensaje) de cada línea del txt \n",
    "DatosLista = [] \n",
    "with open(RutaChat, encoding=\"utf-8\") as fp:\n",
    "    fp.readline() # Eliminar primera fila relacionada al cifrado de extremo a extremo\n",
    "    VerificarMensaje = [] # Lista para verificar que no existan mensajes vacíos \n",
    "    Fecha, Hora, Miembro = None, None, None\n",
    "    while True:\n",
    "        linea = fp.readline() \n",
    "        if not linea: \n",
    "            break\n",
    "        linea = linea.strip() \n",
    "        if encryption_msg in linea:\n",
    "            continue  # Skip this line and move to the next one\n",
    "        if IniciaConFechaYHora(linea): # Si cada línea del txt coincide con el patrón fecha y hora\n",
    "            if len(VerificarMensaje) > 0: \n",
    "                # Añadir un elemento lista que contendrá los datos a la lista 'DatosLista' \n",
    "                DatosLista.append([Fecha, Hora, Miembro, ' '.join(VerificarMensaje)]) \n",
    "            VerificarMensaje.clear() \n",
    "            Fecha, Hora, Miembro, Mensaje = ObtenerPartes(linea) # Obtener datos de cada línea del txt\n",
    "            VerificarMensaje.append(Mensaje) \n",
    "        else:\n",
    "            VerificarMensaje.append(linea)\n",
    "\n",
    "# Convertir la lista con los datos a dataframe\n",
    "df = pd.DataFrame(DatosLista, columns=['Fecha', 'Hora', 'Miembro', 'Mensaje']) \n",
    "\n",
    "# Cambiar la columna Fecha a formato datetime\n",
    "df['Fecha'] = pd.to_datetime(df['Fecha'], format=\"%d/%m/%Y,\")\n",
    "\n",
    "# Eliminar los posibles campos vacíos del dataframe\n",
    "# y lo que no son mensajes como cambiar el asunto del grupo o agregar a alguien\n",
    "df = df.dropna()\n",
    "\n",
    "# Rester el índice\n",
    "df.reset_index(drop=True, inplace=True)\n",
    "df"
   ]
  },
  {
   "cell_type": "markdown",
   "metadata": {},
   "source": [
    "# Estadísticas de mensajes, multimedia, emojis y links"
   ]
  },
  {
   "cell_type": "markdown",
   "metadata": {},
   "source": [
    "## Total de mensajes, multimedia, emojis y links enviados\n"
   ]
  },
  {
   "cell_type": "markdown",
   "metadata": {},
   "source": [
    "def ObtenerEmojis(Mensaje):\n",
    "    emoji_lista = []\n",
    "    data = regex.findall(r'\\X', Mensaje) # Obtener lista de caracteres de cada mensaje\n",
    "    for caracter in data:\n",
    "        if any(c in emoji.UNICODE_EMOJI['es'] for c in caracter): # Obtener emojis en idioma español: 'es'\n",
    "            emoji_lista.append(caracter)\n",
    "    return emoji_lista\n",
    "\n",
    "# Obtener la cantidad total de mensajes\n",
    "total_mensajes = df.shape[0] \n",
    "\n",
    "# Obtener la cantidad de archivos multimedia enviados\n",
    "multimedia_mensajes = df[df['Mensaje'] == '<Multimedia omitido>'].shape[0] \n",
    "\n",
    "# Obtener la cantidad de emojis enviados\n",
    "df['Emojis'] = df['Mensaje'].apply(ObtenerEmojis) # Se agrega columna 'Emojis'\n",
    "emojis = sum(df['Emojis'].str.len())\n",
    "\n",
    "# Obtener la cantidad de links enviados\n",
    "url_patron = r'(https?://\\S+)'\n",
    "df['URLs'] = df.Mensaje.apply(lambda x: re.findall(url_patron, x)).str.len() # Se agrega columna 'URLs'\n",
    "links = np.sum(df.URLs)\n",
    "\n",
    "# Todos los datos pasarlo a diccionario\n",
    "estadistica_dict = {'Tipo': ['Mensajes', 'Multimedia', 'Emojis', 'Links'],\n",
    "        'Cantidad': [total_mensajes, multimedia_mensajes, emojis, links]\n",
    "        }\n",
    "\n",
    "#Convertir diccionario a dataframe\n",
    "estadistica_df = pd.DataFrame(estadistica_dict, columns = ['Tipo', 'Cantidad'])\n",
    "\n",
    "# Establecer la columna Tipo como índice\n",
    "estadistica_df = estadistica_df.set_index('Tipo')\n",
    "estadistica_df"
   ]
  }
 ],
 "metadata": {
  "kernelspec": {
   "display_name": "env",
   "language": "python",
   "name": "python3"
  },
  "language_info": {
   "codemirror_mode": {
    "name": "ipython",
    "version": 3
   },
   "file_extension": ".py",
   "mimetype": "text/x-python",
   "name": "python",
   "nbconvert_exporter": "python",
   "pygments_lexer": "ipython3",
   "version": "3.8.10"
  }
 },
 "nbformat": 4,
 "nbformat_minor": 2
}
