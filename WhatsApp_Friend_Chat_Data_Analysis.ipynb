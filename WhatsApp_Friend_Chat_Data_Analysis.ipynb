{
 "cells": [
  {
   "cell_type": "code",
   "execution_count": 11,
   "metadata": {},
   "outputs": [],
   "source": [
    "import pandas as pd\n",
    "import numpy as np\n",
    "import datetime as dt\n",
    "import matplotlib.pyplot as plt\n",
    "import plotly.express as px\n",
    "\n",
    "import re\n",
    "import regex\n",
    "import emoji\n",
    "from collections import Counter\n",
    "from wordcloud import WordCloud, STOPWORDS"
   ]
  },
  {
   "cell_type": "markdown",
   "metadata": {},
   "source": [
    "# De txt a tabla"
   ]
  },
  {
   "cell_type": "markdown",
   "metadata": {},
   "source": [
    "## Funciones"
   ]
  },
  {
   "cell_type": "code",
   "execution_count": 12,
   "metadata": {},
   "outputs": [],
   "source": [
    "def IniciaConFechaYHora(s):\n",
    "    # Ejemplo: '2/10/2018, 9:38 p. m. - ... '\n",
    "    patron = '^([1-9]|1[0-9]|2[0-9]|3[0-1])(\\/)([1-9]|1[0-2])(\\/)(2[0-9][0-9][0-9]), ([0-9]|0[0-9]|1[0-2]):([0-9][0-9])\\u202f(p.\\u202fm.|a.\\u202fm.) -'\n",
    "    resultado = re.match(patron, s)  # Verificar si cada línea del txt hace match con el patrón de fecha y hora\n",
    "    if resultado:\n",
    "        return True\n",
    "    return False"
   ]
  },
  {
   "cell_type": "code",
   "execution_count": 13,
   "metadata": {},
   "outputs": [],
   "source": [
    "# Patron para encontrar a los miembros del grupo dentro del txt\n",
    "def EncontrarMiembro(s):\n",
    "    patrones = [\n",
    "        '([\\w]+):',                                    # Nombre\n",
    "        '([\\w]+[\\s]+[\\(]+[\\w]+[\\)]+):',      # Nombre (Apodo)\n",
    "        '([\\w]+[\\s]+[\\w]+):',                    # Nombre + Apellido\n",
    "        '([\\w]+[\\s]+[\\w]+[\\s]+[\\w]+):',    # Nombre 1 + Nombre 2 + Apellido\n",
    "        '([+]\\d{2} \\d{3} \\d{3} \\d{4}):',     # Número de teléfono (MX)\n",
    "        '([\\w]+)[\\u263a-\\U0001f999]+:', # Nombre + Emoji            \n",
    "    ]\n",
    "    patron = '^' + '|'.join(patrones)     \n",
    "    resultado = re.match(patron, s)  # Verificar si cada línea del txt hace match con el patrón de miembro\n",
    "    if resultado:\n",
    "        return True\n",
    "    return False"
   ]
  },
  {
   "cell_type": "code",
   "execution_count": 14,
   "metadata": {},
   "outputs": [],
   "source": [
    "# Separar las partes de cada línea del txt: Fecha, Hora, Miembro y Mensaje\n",
    "def ObtenerPartes(linea):   \n",
    "    # Ejemplo: '21/2/2021 11:27 a. m. - Sandro: Todos debemos aprender a analizar datos'\n",
    "    splitLinea = linea.split(' - ') \n",
    "    FechaHora = splitLinea[0]                     # '21/2/2021 11:27 a. m.'\n",
    "    splitFechaHora = FechaHora.split(' ')   \n",
    "    Fecha = splitFechaHora[0]                    # '21/2/2021'\n",
    "    Hora = ' '.join(splitFechaHora[1:])          # '11:27 a. m.'\n",
    "    Mensaje = ' '.join(splitLinea[1:])             # 'Sandro: Todos debemos aprender a analizar datos'\n",
    "    if EncontrarMiembro(Mensaje): \n",
    "        splitMensaje = Mensaje.split(': ')      \n",
    "        Miembro = splitMensaje[0]               # 'Sandro' \n",
    "        Mensaje = ' '.join(splitMensaje[1:])    # 'Todos debemos aprender a analizar datos'\n",
    "    else:\n",
    "        Miembro = None\n",
    "    return Fecha, Hora, Miembro, Mensaje"
   ]
  },
  {
   "cell_type": "markdown",
   "metadata": {},
   "source": [
    "### Unit test"
   ]
  },
  {
   "cell_type": "code",
   "execution_count": 3,
   "metadata": {},
   "outputs": [
    {
     "name": "stderr",
     "output_type": "stream",
     "text": [
      ".\n",
      "----------------------------------------------------------------------\n",
      "Ran 1 test in 0.002s\n",
      "\n",
      "OK\n"
     ]
    },
    {
     "data": {
      "text/plain": [
       "<unittest.runner.TextTestResult run=1 errors=0 failures=0>"
      ]
     },
     "execution_count": 3,
     "metadata": {},
     "output_type": "execute_result"
    }
   ],
   "source": [
    "\n",
    "import unittest\n",
    "\n",
    "class TestIniciaConFechaYHora(unittest.TestCase):\n",
    "    def test_IniciaConFechaYHora(self):\n",
    "        self.assertTrue(IniciaConFechaYHora(\"24/10/2018, 10:36 p. m. - Paola Daft: 😹😹😹\"))\n",
    "        self.assertFalse(IniciaConFechaYHora(\"Esto no comienza con una fecha y hora\"))\n",
    "        self.assertTrue(IniciaConFechaYHora(\"1/1/2000, 12:00 a. m. - Usuario: mensaje\"))\n",
    "        self.assertFalse(IniciaConFechaYHora(\"24/10/2018 - Paola Daft: 😹😹😹\"))  # Falta la hora\n",
    "        self.assertFalse(IniciaConFechaYHora(\"10:36 p. m. - Paola Daft: 😹😹😹\"))  # Falta la fecha\n",
    "\n",
    "suite = unittest.TestLoader().loadTestsFromTestCase(TestIniciaConFechaYHora)\n",
    "unittest.TextTestRunner().run(suite)"
   ]
  },
  {
   "cell_type": "markdown",
   "metadata": {},
   "source": [
    "## Obtención de las partes del chat"
   ]
  }
 ],
 "metadata": {
  "kernelspec": {
   "display_name": "env",
   "language": "python",
   "name": "python3"
  },
  "language_info": {
   "codemirror_mode": {
    "name": "ipython",
    "version": 3
   },
   "file_extension": ".py",
   "mimetype": "text/x-python",
   "name": "python",
   "nbconvert_exporter": "python",
   "pygments_lexer": "ipython3",
   "version": "3.8.10"
  }
 },
 "nbformat": 4,
 "nbformat_minor": 2
}
