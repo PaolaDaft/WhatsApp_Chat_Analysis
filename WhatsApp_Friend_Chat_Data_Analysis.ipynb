{
 "cells": [
  {
   "cell_type": "code",
   "execution_count": 2,
   "metadata": {},
   "outputs": [],
   "source": [
    "import pandas as pd\n",
    "import numpy as np\n",
    "import datetime as dt\n",
    "import matplotlib.pyplot as plt\n",
    "import plotly.express as px\n",
    "\n",
    "import re\n",
    "import regex\n",
    "import emoji\n",
    "from collections import Counter\n",
    "from wordcloud import WordCloud, STOPWORDS"
   ]
  },
  {
   "cell_type": "markdown",
   "metadata": {},
   "source": [
    "# De txt a tabla"
   ]
  },
  {
   "cell_type": "markdown",
   "metadata": {},
   "source": [
    "## Funciones"
   ]
  },
  {
   "cell_type": "code",
   "execution_count": 3,
   "metadata": {},
   "outputs": [],
   "source": [
    "# Patron regex para identificar el comienzo de cada línea del txt con la fecha y la hora\n",
    "def IniciaConFechaYHora(s):\n",
    "    # Ejemplo: '21/2/2021 11:27 a. m. - ... '\n",
    "    patron = '^([1-9]|1[0-9]|2[0-9]|3[0-1])(\\/)([1-9]|1[0-2])(\\/)(2[0-9][0-9][0-9]) ([0-9]+):([0-9][0-9]) (a.\\xa0m.|p.\\xa0m.) -'\n",
    "    resultado = re.match(patron, s)  # Verificar si cada línea del txt hace match con el patrón de fecha y hora\n",
    "    if resultado:\n",
    "        return True\n",
    "    return False\n"
   ]
  },
  {
   "cell_type": "code",
   "execution_count": 5,
   "metadata": {},
   "outputs": [],
   "source": [
    "  \n",
    "# Patron para encontrar a los miembros del grupo dentro del txt\n",
    "def EncontrarMiembro(s):\n",
    "    patrones = [\n",
    "        '([\\w]+):',                                    # Nombre\n",
    "        '([\\w]+[\\s]+[\\(]+[\\w]+[\\)]+):',      # Nombre (Apodo)\n",
    "        '([\\w]+[\\s]+[\\w]+):',                    # Nombre + Apellido\n",
    "        '([\\w]+[\\s]+[\\w]+[\\s]+[\\w]+):',    # Nombre 1 + Nombre 2 + Apellido\n",
    "        '([+]\\d{2} \\d{3} \\d{3} \\d{4}):',  # Número de teléfono (México)\n",
    "        '([\\w]+)[\\u263a-\\U0001f999]+:', # Nombre + Emoji            \n",
    "    ]\n",
    "    patron = '^' + '|'.join(patrones)     \n",
    "    resultado = re.match(patron, s)  # Verificar si cada línea del txt hace match con el patrón de miembro\n",
    "    if resultado:\n",
    "        return True\n",
    "    return False\n"
   ]
  },
  {
   "cell_type": "code",
   "execution_count": 6,
   "metadata": {},
   "outputs": [],
   "source": [
    "  \n",
    "# Separar las partes de cada línea del txt: Fecha, Hora, Miembro y Mensaje\n",
    "def ObtenerPartes(linea):   \n",
    "    # Ejemplo: '21/2/2021 11:27 a. m. - Sandro: Todos debemos aprender a analizar datos'\n",
    "    splitLinea = linea.split(' - ') \n",
    "    FechaHora = splitLinea[0]                     # '21/2/2021 11:27 a. m.'\n",
    "    splitFechaHora = FechaHora.split(' ')   \n",
    "    Fecha = splitFechaHora[0]                    # '21/2/2021'\n",
    "    Hora = ' '.join(splitFechaHora[1:])          # '11:27 a. m.'\n",
    "    Mensaje = ' '.join(splitLinea[1:])             # 'Sandro: Todos debemos aprender a analizar datos'\n",
    "    if EncontrarMiembro(Mensaje): \n",
    "        splitMensaje = Mensaje.split(': ')      \n",
    "        Miembro = splitMensaje[0]               # 'Sandro' \n",
    "        Mensaje = ' '.join(splitMensaje[1:])    # 'Todos debemos aprender a analizar datos'\n",
    "    else:\n",
    "        Miembro = None"
   ]
  },
  {
   "cell_type": "markdown",
   "metadata": {},
   "source": [
    "## Obtención de las partes del chat"
   ]
  },
  {
   "cell_type": "code",
   "execution_count": 7,
   "metadata": {},
   "outputs": [],
   "source": [
    "# Leer el archivo txt descargado del chat de WhatsApp\n",
    "RutaChat = './data/Chat de WhatsApp con Carlitos.txt'\n",
    "\n",
    "# Lista para almacenar los datos (Fecha, Hora, Miembro, Mensaje) de cada línea del txt \n",
    "DatosLista = [] \n",
    "with open(RutaChat, encoding=\"utf-8\") as fp:\n",
    "    fp.readline() # Eliminar primera fila relacionada al cifrado de extremo a extremo\n",
    "    VerificarMensaje = [] # Lista para verificar que no existan mensajes vacíos \n",
    "    Fecha, Hora, Miembro = None, None, None\n",
    "    while True:\n",
    "        linea = fp.readline() \n",
    "        if not linea: \n",
    "            break\n",
    "        linea = linea.strip() \n",
    "        if IniciaConFechaYHora(linea): # Si cada línea del txt coincide con el patrón fecha y hora\n",
    "            if len(VerificarMensaje) > 0: \n",
    "                # Añadir un elemento lista que contendrá los datos a la lista 'DatosLista' \n",
    "                DatosLista.append([Fecha, Hora, Miembro, ' '.join(VerificarMensaje)]) \n",
    "            VerificarMensaje.clear() \n",
    "            Fecha, Hora, Miembro, Mensaje = ObtenerPartes(linea) # Obtener datos de cada línea del txt\n",
    "            VerificarMensaje.append(Mensaje) \n",
    "        else:\n",
    "            VerificarMensaje.append(linea)\n",
    "\n",
    "# Convertir la lista con los datos a dataframe\n",
    "df = pd.DataFrame(DatosLista, columns=['Fecha', 'Hora', 'Miembro', 'Mensaje']) \n",
    "\n",
    "# Cambiar la columna Fecha a formato datetime\n",
    "df['Fecha'] = pd.to_datetime(df['Fecha'], format=\"%d/%m/%Y\")\n",
    "\n",
    "# Eliminar los posibles campos vacíos del dataframe\n",
    "# y lo que no son mensajes como cambiar el asunto del grupo o agregar a alguien\n",
    "df = df.dropna()\n",
    "\n",
    "# Rester el índice\n",
    "df.reset_index(drop=True, inplace=True)\n",
    "df"
   ]
  }
 ],
 "metadata": {
  "kernelspec": {
   "display_name": "env",
   "language": "python",
   "name": "python3"
  },
  "language_info": {
   "codemirror_mode": {
    "name": "ipython",
    "version": 3
   },
   "file_extension": ".py",
   "mimetype": "text/x-python",
   "name": "python",
   "nbconvert_exporter": "python",
   "pygments_lexer": "ipython3",
   "version": "3.8.10"
  }
 },
 "nbformat": 4,
 "nbformat_minor": 2
}
